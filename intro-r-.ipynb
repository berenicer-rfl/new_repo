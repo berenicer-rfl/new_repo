{
 "cells": [
  {
   "cell_type": "markdown",
   "metadata": {},
   "source": [
    "<center>\n",
    "    <img src=\"https://s3-api.us-geo.objectstorage.softlayer.net/cf-courses-data/CognitiveClass/Logos/organization_logo/organization_logo.png\" width=\"300\" alt=\"cognitiveclass.ai logo\"  />\n",
    "</center>\n",
    "\n",
    "# Assignment: Notebook for Peer Assignment\n",
    "\n",
    "Estimated time needed: 60 minutes\n"
   ]
  },
  {
   "cell_type": "markdown",
   "metadata": {},
   "source": [
    "# Assignment Scenario\n",
    "\n",
    "Congratulations! You have just been hired by a US Weather forecast firm as a data scientist.\n",
    "\n",
    "The company is considering the weather condition to help predict the possibility of precipitations, which involves using various local climatological variables, including temperature, wind speed, humidity, dew point, and pressure. The data you will be handling was collected by a NOAA weather station located at the John F. Kennedy International Airport in Queens, New York.\n",
    "\n",
    "Your task is to provide a high level analysis of weather data in JFK Airport. Your stakeholders want to understand the current and historical record of precipitations based on different variables. For now they are mainly interested in a macro-view of JFK Airport Weather, and how it relates to the possibility to rain because it will affect flight delays and etc.\n"
   ]
  },
  {
   "cell_type": "markdown",
   "metadata": {},
   "source": [
    "# Introduction\n",
    "\n",
    "This project relates to the NOAA Weather Dataset - JFK Airport (New York). The original dataset contains 114,546 hourly observations of 12 local climatological variables (such as temperature and wind speed) collected at JFK airport. This dataset can be obtained for free from the IBM Developer [Data Asset Exchange](https://developer.ibm.com/exchanges/data/all/jfk-weather-data/?utm_medium=Exinfluencer&utm_source=Exinfluencer&utm_content=000026UJ&utm_term=10006555&utm_id=NA-SkillsNetwork-Channel-SkillsNetworkCoursesIBMDA0151ENSkillsNetwork21582452-2021-01-01).\n",
    "\n",
    "For this project, you will be using a subset dataset, which contains 5727 rows (about 5% or original rows) and 9 columns. The end goal will be to predict the precipitation using some of the available features. In this project, you will practice reading data files, preprocessing data, creating models, improving models and evaluating them to ultimately choose the best model.\n"
   ]
  },
  {
   "cell_type": "markdown",
   "metadata": {},
   "source": [
    "## Table of Contents:\n",
    "\n",
    "Using this R notebook you will complete **10 tasks**:\n",
    "\n",
    "*   [0. Prerequisites](#cell0)\n",
    "*   [1. Download and Unzip NOAA Weather Dataset](#cell1)\n",
    "*   [2. Read Dataset into Project](#cell2)\n",
    "*   [3. Select Subset of Columns](#cell3)\n",
    "*   [4. Clean Up Columns](#cell4)\n",
    "*   [5. Convert Columns to Numerical Types](#cell5)\n",
    "*   [6. Rename Columns](#cell6)\n",
    "*   [7. Exploratory Data Analysis](#cell7)\n",
    "*   [8. Linear Regression](#cell8)\n",
    "*   [9. Improve the Model](#cell9)\n",
    "*   [10. Find Best Model](#cell10)\n",
    "\n",
    "<a id=\"cell0\"></a>\n",
    "\n",
    "## 0. Prerequisites\n",
    "\n",
    "**When creating this notebook in Watson Studio, remember to chose R under \"Select runtime\" to make sure the kernel is using R.**\n",
    "\n",
    "Before you run this notebook complete the following steps:\n",
    "\n",
    "*   Insert a project token\n",
    "*   Import required modules\n",
    "\n",
    "#### Insert a project token\n",
    "\n",
    "When you import this project from the Watson Studio Gallery, a token should be automatically generated and inserted at the top of this notebook as a code cell such as the one below:\n",
    "\n",
    "```python\n",
    "# @hidden_cell\n",
    "# The project token is an authorization token that is used to access project resources like data sources, connections, and used by platform APIs.\n",
    "from project_lib import Project\n",
    "project = Project(project_id='YOUR_PROJECT_ID', project_access_token='YOUR_PROJECT_TOKEN')\n",
    "pc = project.project_context\n",
    "```\n",
    "\n",
    "If you do not see the cell above, follow these steps to enable the notebook to access the dataset from the project's resources:\n",
    "\n",
    "*   Click on `More -> Insert project token` in the top-right menu section\n",
    "\n",
    "![ws-project.mov](https://media.giphy.com/media/jSVxX2spqwWF9unYrs/giphy.gif)\n",
    "\n",
    "*   This should insert a cell at the top of this notebook similar to the example given above.\n",
    "\n",
    "    > If an error is displayed indicating that no project token is defined, follow [these instructions](https://dataplatform.cloud.ibm.com/docs/content/wsj/analyze-data/token.html?utm_medium=Exinfluencer&utm_source=Exinfluencer&utm_content=000026UJ&utm_term=10006555&utm_id=NA-SkillsNetwork-Channel-SkillsNetworkCoursesIBMDA0151ENSkillsNetwork21582452-2021-01-01&audience=wdp&context=data).\n",
    "\n",
    "*   Run the newly inserted cell before proceeding with the notebook execution below\n",
    "\n",
    "### Import required modules\n",
    "\n",
    "Below, install \"tidymodels\", additionally \"rlang\" should be updated in order to properly run \"tidymodels\".\n"
   ]
  },
  {
   "cell_type": "code",
   "execution_count": 1,
   "metadata": {},
   "outputs": [
    {
     "name": "stderr",
     "output_type": "stream",
     "text": [
      "Updating HTML index of packages in '.Library'\n",
      "Making 'packages.html' ... done\n",
      "also installing the dependencies ‘listenv’, ‘parallelly’, ‘future’, ‘warp’, ‘lhs’, ‘DiceDesign’, ‘isoband’, ‘patchwork’, ‘generics’, ‘ipred’, ‘furrr’, ‘slider’, ‘GPfit’, ‘pROC’, ‘broom’, ‘conflicted’, ‘dials’, ‘ggplot2’, ‘hardhat’, ‘infer’, ‘modeldata’, ‘parsnip’, ‘purrr’, ‘recipes’, ‘rsample’, ‘rstudioapi’, ‘tune’, ‘workflows’, ‘workflowsets’, ‘yardstick’\n",
      "\n",
      "Updating HTML index of packages in '.Library'\n",
      "Making 'packages.html' ... done\n"
     ]
    }
   ],
   "source": [
    "# Install tidymodels if you haven't done so\n",
    "install.packages(\"rlang\")\n",
    "install.packages(\"tidymodels\")"
   ]
  },
  {
   "cell_type": "markdown",
   "metadata": {},
   "source": [
    "After installing the packages, load them. Tidyverse and Tidymodels will be the two main packages you will use.\n"
   ]
  },
  {
   "cell_type": "code",
   "execution_count": 2,
   "metadata": {},
   "outputs": [
    {
     "name": "stderr",
     "output_type": "stream",
     "text": [
      "Registered S3 method overwritten by 'tune':\n",
      "  method                   from   \n",
      "  required_pkgs.model_spec parsnip\n",
      "── Attaching packages ────────────────────────────────────── tidymodels 0.1.4 ──\n",
      "✔ broom        0.7.12     ✔ recipes      0.2.0 \n",
      "✔ dials        0.1.0      ✔ rsample      0.1.1 \n",
      "✔ dplyr        1.0.7      ✔ tibble       3.1.5 \n",
      "✔ ggplot2      3.3.5      ✔ tidyr        1.1.4 \n",
      "✔ infer        1.0.0      ✔ tune         0.1.6 \n",
      "✔ modeldata    0.1.1      ✔ workflows    0.2.4 \n",
      "✔ parsnip      0.1.7      ✔ workflowsets 0.1.0 \n",
      "✔ purrr        0.3.4      ✔ yardstick    0.0.9 \n",
      "── Conflicts ───────────────────────────────────────── tidymodels_conflicts() ──\n",
      "✖ purrr::discard() masks scales::discard()\n",
      "✖ dplyr::filter()  masks stats::filter()\n",
      "✖ dplyr::lag()     masks stats::lag()\n",
      "✖ recipes::step()  masks stats::step()\n",
      "• Dig deeper into tidy modeling with R at https://www.tmwr.org\n",
      "Warning message:\n",
      "“replacing previous import ‘lifecycle::last_warnings’ by ‘rlang::last_warnings’ when loading ‘hms’”Registered S3 method overwritten by 'rvest':\n",
      "  method            from\n",
      "  read_xml.response xml2\n",
      "── Attaching packages ─────────────────────────────────────── tidyverse 1.2.1 ──\n",
      "✔ readr   1.3.1     ✔ stringr 1.4.0\n",
      "✔ readr   1.3.1     ✔ forcats 0.4.0\n",
      "── Conflicts ────────────────────────────────────────── tidyverse_conflicts() ──\n",
      "✖ readr::col_factor() masks scales::col_factor()\n",
      "✖ purrr::discard()    masks scales::discard()\n",
      "✖ dplyr::filter()     masks stats::filter()\n",
      "✖ stringr::fixed()    masks recipes::fixed()\n",
      "✖ dplyr::lag()        masks stats::lag()\n",
      "✖ readr::spec()       masks yardstick::spec()\n"
     ]
    }
   ],
   "source": [
    "# Library for modeling\n",
    "library(tidymodels)\n",
    "\n",
    "# Load tidyverse\n",
    "library(tidyverse)"
   ]
  },
  {
   "cell_type": "markdown",
   "metadata": {},
   "source": [
    "### Understand the Dataset\n",
    "\n",
    "The original NOAA JFK dataset contains 114,546 hourly observations of various local climatological variables (including temperature, wind speed, humidity, dew point, and pressure).\n",
    "\n",
    "In this project you will use a sample dataset, which is around 293 KB. [Link to the sample dataset](https://dax-cdn.cdn.appdomain.cloud/dax-noaa-weather-data-jfk-airport/1.1.4/noaa-weather-sample-data.tar.gz).\n",
    "\n",
    "The sample contains 5727 rows (about 5% or original rows) and 9 columns, which are:\n",
    "\n",
    "*   DATE\n",
    "*   HOURLYDewPointTempF\n",
    "*   HOURLYRelativeHumidity\n",
    "*   HOURLYDRYBULBTEMPF\n",
    "*   HOURLYWETBULBTEMPF\n",
    "*   HOURLYPrecip\n",
    "*   HOURLYWindSpeed\n",
    "*   HOURLYSeaLevelPressure\n",
    "*   HOURLYStationPressure\n",
    "\n",
    "The original dataset is much bigger. Feel free to explore the original dataset. [Link to the original dataset.](https://dax-cdn.cdn.appdomain.cloud/dax-noaa-weather-data-jfk-airport/1.1.4/noaa_weather.html)\n",
    "\n",
    "For more information about the dataset, checkout the [preview](https://dax-cdn.cdn.appdomain.cloud/dax-noaa-weather-data-jfk-airport/1.1.4/data-preview/index.html?\\_ga=2.176781478.281508226.1616293518-1509963377.1616117067&cm_mc_uid=90945889198916153255549&cm_mc_sid\\_50200000=64650651616293516933) of NOAA Weather - JFK Airport.\n"
   ]
  },
  {
   "cell_type": "markdown",
   "metadata": {},
   "source": [
    "<a id=\"cell1\"></a>\n",
    "\n",
    "## 1. Download NOAA Weather Dataset\n",
    "\n",
    "Use the `download.file()` function to download the sample dataset from the URL below.\n",
    "\n",
    "URL = '<https://dax-cdn.cdn.appdomain.cloud/dax-noaa-weather-data-jfk-airport/1.1.4/noaa-weather-sample-data.tar.gz>'\n"
   ]
  },
  {
   "cell_type": "code",
   "execution_count": 8,
   "metadata": {},
   "outputs": [],
   "source": [
    "URL = 'https://dax-cdn.cdn.appdomain.cloud/dax-noaa-weather-data-jfk-airport/1.1.4/noaa-weather-sample-data.tar.gz'\n",
    "\n",
    "download.file(URL, destfile = \"noaa-weather-sample-data/jfk_weather_sample.csv\")"
   ]
  },
  {
   "cell_type": "markdown",
   "metadata": {},
   "source": [
    "Untar the zipped file.\n"
   ]
  },
  {
   "cell_type": "code",
   "execution_count": 9,
   "metadata": {},
   "outputs": [],
   "source": [
    "untar(\"noaa-weather-sample-data/jfk_weather_sample.csv\")"
   ]
  },
  {
   "cell_type": "markdown",
   "metadata": {},
   "source": [
    "<a id=\"cell2\"></a>\n",
    "\n",
    "## 2. Extract and Read into Project\n",
    "\n",
    "We start by reading in the raw dataset. You should specify the file name as \"noaa-weather-sample-data/jfk_weather_sample.csv\".\n"
   ]
  },
  {
   "cell_type": "code",
   "execution_count": 11,
   "metadata": {},
   "outputs": [],
   "source": [
    "noaa <- read.csv(\"noaa-weather-sample-data/jfk_weather_sample.csv\")"
   ]
  },
  {
   "cell_type": "markdown",
   "metadata": {},
   "source": [
    "Next, display the first few rows of the dataframe.\n"
   ]
  },
  {
   "cell_type": "code",
   "execution_count": 12,
   "metadata": {},
   "outputs": [
    {
     "data": {
      "text/html": [
       "<table>\n",
       "<thead><tr><th scope=col>DATE</th><th scope=col>HOURLYDewPointTempF</th><th scope=col>HOURLYRelativeHumidity</th><th scope=col>HOURLYDRYBULBTEMPF</th><th scope=col>HOURLYWETBULBTEMPF</th><th scope=col>HOURLYPrecip</th><th scope=col>HOURLYWindSpeed</th><th scope=col>HOURLYSeaLevelPressure</th><th scope=col>HOURLYStationPressure</th></tr></thead>\n",
       "<tbody>\n",
       "\t<tr><td>2015-07-25T13:51:00Z</td><td>60                  </td><td>46                  </td><td>83                  </td><td>68                  </td><td>0.00                </td><td>13                  </td><td>30.01               </td><td>29.99               </td></tr>\n",
       "\t<tr><td>2016-11-18T23:51:00Z</td><td>34                  </td><td>48                  </td><td>53                  </td><td>44                  </td><td>0.00                </td><td> 6                  </td><td>30.05               </td><td>30.03               </td></tr>\n",
       "\t<tr><td>2013-01-06T08:51:00Z</td><td>33                  </td><td>89                  </td><td>36                  </td><td>35                  </td><td>0.00                </td><td>13                  </td><td>30.14               </td><td>30.12               </td></tr>\n",
       "\t<tr><td>2011-01-27T16:51:00Z</td><td>18                  </td><td>48                  </td><td>36                  </td><td>30                  </td><td>0.00                </td><td>14                  </td><td>29.82               </td><td>29.80               </td></tr>\n",
       "\t<tr><td>2015-01-03T12:16:00Z</td><td>27                  </td><td>61                  </td><td>39                  </td><td>34                  </td><td>T                   </td><td>11                  </td><td>   NA               </td><td>30.50               </td></tr>\n",
       "\t<tr><td>2013-02-15T20:51:00Z</td><td>35                  </td><td>79                  </td><td>41                  </td><td>38                  </td><td>0.00                </td><td> 6                  </td><td>29.94               </td><td>29.92               </td></tr>\n",
       "</tbody>\n",
       "</table>\n"
      ],
      "text/latex": [
       "\\begin{tabular}{r|lllllllll}\n",
       " DATE & HOURLYDewPointTempF & HOURLYRelativeHumidity & HOURLYDRYBULBTEMPF & HOURLYWETBULBTEMPF & HOURLYPrecip & HOURLYWindSpeed & HOURLYSeaLevelPressure & HOURLYStationPressure\\\\\n",
       "\\hline\n",
       "\t 2015-07-25T13:51:00Z & 60                   & 46                   & 83                   & 68                   & 0.00                 & 13                   & 30.01                & 29.99               \\\\\n",
       "\t 2016-11-18T23:51:00Z & 34                   & 48                   & 53                   & 44                   & 0.00                 &  6                   & 30.05                & 30.03               \\\\\n",
       "\t 2013-01-06T08:51:00Z & 33                   & 89                   & 36                   & 35                   & 0.00                 & 13                   & 30.14                & 30.12               \\\\\n",
       "\t 2011-01-27T16:51:00Z & 18                   & 48                   & 36                   & 30                   & 0.00                 & 14                   & 29.82                & 29.80               \\\\\n",
       "\t 2015-01-03T12:16:00Z & 27                   & 61                   & 39                   & 34                   & T                    & 11                   &    NA                & 30.50               \\\\\n",
       "\t 2013-02-15T20:51:00Z & 35                   & 79                   & 41                   & 38                   & 0.00                 &  6                   & 29.94                & 29.92               \\\\\n",
       "\\end{tabular}\n"
      ],
      "text/markdown": [
       "\n",
       "| DATE | HOURLYDewPointTempF | HOURLYRelativeHumidity | HOURLYDRYBULBTEMPF | HOURLYWETBULBTEMPF | HOURLYPrecip | HOURLYWindSpeed | HOURLYSeaLevelPressure | HOURLYStationPressure |\n",
       "|---|---|---|---|---|---|---|---|---|\n",
       "| 2015-07-25T13:51:00Z | 60                   | 46                   | 83                   | 68                   | 0.00                 | 13                   | 30.01                | 29.99                |\n",
       "| 2016-11-18T23:51:00Z | 34                   | 48                   | 53                   | 44                   | 0.00                 |  6                   | 30.05                | 30.03                |\n",
       "| 2013-01-06T08:51:00Z | 33                   | 89                   | 36                   | 35                   | 0.00                 | 13                   | 30.14                | 30.12                |\n",
       "| 2011-01-27T16:51:00Z | 18                   | 48                   | 36                   | 30                   | 0.00                 | 14                   | 29.82                | 29.80                |\n",
       "| 2015-01-03T12:16:00Z | 27                   | 61                   | 39                   | 34                   | T                    | 11                   |    NA                | 30.50                |\n",
       "| 2013-02-15T20:51:00Z | 35                   | 79                   | 41                   | 38                   | 0.00                 |  6                   | 29.94                | 29.92                |\n",
       "\n"
      ],
      "text/plain": [
       "  DATE                 HOURLYDewPointTempF HOURLYRelativeHumidity\n",
       "1 2015-07-25T13:51:00Z 60                  46                    \n",
       "2 2016-11-18T23:51:00Z 34                  48                    \n",
       "3 2013-01-06T08:51:00Z 33                  89                    \n",
       "4 2011-01-27T16:51:00Z 18                  48                    \n",
       "5 2015-01-03T12:16:00Z 27                  61                    \n",
       "6 2013-02-15T20:51:00Z 35                  79                    \n",
       "  HOURLYDRYBULBTEMPF HOURLYWETBULBTEMPF HOURLYPrecip HOURLYWindSpeed\n",
       "1 83                 68                 0.00         13             \n",
       "2 53                 44                 0.00          6             \n",
       "3 36                 35                 0.00         13             \n",
       "4 36                 30                 0.00         14             \n",
       "5 39                 34                 T            11             \n",
       "6 41                 38                 0.00          6             \n",
       "  HOURLYSeaLevelPressure HOURLYStationPressure\n",
       "1 30.01                  29.99                \n",
       "2 30.05                  30.03                \n",
       "3 30.14                  30.12                \n",
       "4 29.82                  29.80                \n",
       "5    NA                  30.50                \n",
       "6 29.94                  29.92                "
      ]
     },
     "metadata": {},
     "output_type": "display_data"
    }
   ],
   "source": [
    "head(noaa)"
   ]
  },
  {
   "cell_type": "markdown",
   "metadata": {},
   "source": [
    "Also, take a `glimpse` of the dataset to see the different column data types and make sure it is the correct subset dataset with about 5700 rows and 9 columns.\n"
   ]
  },
  {
   "cell_type": "code",
   "execution_count": 13,
   "metadata": {},
   "outputs": [
    {
     "name": "stdout",
     "output_type": "stream",
     "text": [
      "Rows: 5,727\n",
      "Columns: 9\n",
      "$ DATE                   <fct> 2015-07-25T13:51:00Z, 2016-11-18T23:51:00Z, 201…\n",
      "$ HOURLYDewPointTempF    <fct> 60, 34, 33, 18, 27, 35, 4, 14, 51, 71, 76, 19, …\n",
      "$ HOURLYRelativeHumidity <int> 46, 48, 89, 48, 61, 79, 51, 65, 90, 94, 79, 37,…\n",
      "$ HOURLYDRYBULBTEMPF     <int> 83, 53, 36, 36, 39, 41, 19, 24, 54, 73, 83, 44,…\n",
      "$ HOURLYWETBULBTEMPF     <int> 68, 44, 35, 30, 34, 38, 15, 21, 52, 72, 78, 35,…\n",
      "$ HOURLYPrecip           <fct> 0.00, 0.00, 0.00, 0.00, T, 0.00, 0.00, 0.00, 0.…\n",
      "$ HOURLYWindSpeed        <int> 13, 6, 13, 14, 11, 6, 0, 11, 11, 5, 21, 7, 17, …\n",
      "$ HOURLYSeaLevelPressure <dbl> 30.01, 30.05, 30.14, 29.82, NA, 29.94, 30.42, 3…\n",
      "$ HOURLYStationPressure  <dbl> 29.99, 30.03, 30.12, 29.80, 30.50, 29.92, 30.40…\n"
     ]
    }
   ],
   "source": [
    "glimpse(noaa)"
   ]
  },
  {
   "cell_type": "markdown",
   "metadata": {},
   "source": [
    "<a id=\"cell3\"></a>\n",
    "\n",
    "## 3. Select Subset of Columns\n",
    "\n",
    "The end goal of this project will be to predict `HOURLYprecip` (precipitation) using a few other variables. Before you can do this, you first need to preprocess the dataset. Section 3 to section 6 focuses on preprocessing.\n",
    "\n",
    "The first step in preprocessing is to select a subset of data columns and inspect the column types.\n",
    "\n",
    "The key columns that we will explore in this project are:\n",
    "\n",
    "*   HOURLYRelativeHumidity\n",
    "*   HOURLYDRYBULBTEMPF\n",
    "*   HOURLYPrecip\n",
    "*   HOURLYWindSpeed\n",
    "*   HOURLYStationPressure\n",
    "\n",
    "Data Glossary:\n",
    "\n",
    "*   'HOURLYRelativeHumidity' is the relative humidity given to the nearest whole percentage.\n",
    "*   'HOURLYDRYBULBTEMPF' is the dry-bulb temperature and is commonly used as the standard air temperature reported. It is given here in whole degrees Fahrenheit.\n",
    "*   'HOURLYPrecip' is the amount of precipitation in inches to hundredths over the past hour. For certain automated stations, precipitation will be reported at sub-hourly intervals (e.g. every 15 or 20 minutes) as an accumulated amount of all precipitation within the preceding hour. A “T” indicates a trace amount of precipitation.\n",
    "*   'HOURLYWindSpeed' is the speed of the wind at the time of observation given in miles per hour (mph).\n",
    "*   'HOURLYStationPressure' is the atmospheric pressure observed at the station during the time of observation. Given in inches of Mercury (in Hg).\n",
    "\n",
    "`Select` those five columns and store the modified dataframe as a new variable.\n"
   ]
  },
  {
   "cell_type": "code",
   "execution_count": 29,
   "metadata": {},
   "outputs": [],
   "source": [
    "first_5_columns <- data.frame(select(noaa, \"HOURLYRelativeHumidity\", \"HOURLYDRYBULBTEMPF\", \"HOURLYPrecip\", \"HOURLYWindSpeed\", \"HOURLYStationPressure\"), stringsAsFactors = FALSE)\n"
   ]
  },
  {
   "cell_type": "markdown",
   "metadata": {},
   "source": [
    "Show the first 10 rows of this new dataframe.\n"
   ]
  },
  {
   "cell_type": "code",
   "execution_count": 30,
   "metadata": {},
   "outputs": [
    {
     "data": {
      "text/html": [
       "<table>\n",
       "<thead><tr><th scope=col>HOURLYRelativeHumidity</th><th scope=col>HOURLYDRYBULBTEMPF</th><th scope=col>HOURLYPrecip</th><th scope=col>HOURLYWindSpeed</th><th scope=col>HOURLYStationPressure</th></tr></thead>\n",
       "<tbody>\n",
       "\t<tr><td>46   </td><td>83   </td><td>0.00 </td><td>13   </td><td>29.99</td></tr>\n",
       "\t<tr><td>48   </td><td>53   </td><td>0.00 </td><td> 6   </td><td>30.03</td></tr>\n",
       "\t<tr><td>89   </td><td>36   </td><td>0.00 </td><td>13   </td><td>30.12</td></tr>\n",
       "\t<tr><td>48   </td><td>36   </td><td>0.00 </td><td>14   </td><td>29.80</td></tr>\n",
       "\t<tr><td>61   </td><td>39   </td><td>T    </td><td>11   </td><td>30.50</td></tr>\n",
       "\t<tr><td>79   </td><td>41   </td><td>0.00 </td><td> 6   </td><td>29.92</td></tr>\n",
       "\t<tr><td>51   </td><td>19   </td><td>0.00 </td><td> 0   </td><td>30.40</td></tr>\n",
       "\t<tr><td>65   </td><td>24   </td><td>0.00 </td><td>11   </td><td>30.35</td></tr>\n",
       "\t<tr><td>90   </td><td>54   </td><td>0.06 </td><td>11   </td><td>30.03</td></tr>\n",
       "\t<tr><td>94   </td><td>73   </td><td>NA   </td><td> 5   </td><td>29.91</td></tr>\n",
       "</tbody>\n",
       "</table>\n"
      ],
      "text/latex": [
       "\\begin{tabular}{r|lllll}\n",
       " HOURLYRelativeHumidity & HOURLYDRYBULBTEMPF & HOURLYPrecip & HOURLYWindSpeed & HOURLYStationPressure\\\\\n",
       "\\hline\n",
       "\t 46    & 83    & 0.00  & 13    & 29.99\\\\\n",
       "\t 48    & 53    & 0.00  &  6    & 30.03\\\\\n",
       "\t 89    & 36    & 0.00  & 13    & 30.12\\\\\n",
       "\t 48    & 36    & 0.00  & 14    & 29.80\\\\\n",
       "\t 61    & 39    & T     & 11    & 30.50\\\\\n",
       "\t 79    & 41    & 0.00  &  6    & 29.92\\\\\n",
       "\t 51    & 19    & 0.00  &  0    & 30.40\\\\\n",
       "\t 65    & 24    & 0.00  & 11    & 30.35\\\\\n",
       "\t 90    & 54    & 0.06  & 11    & 30.03\\\\\n",
       "\t 94    & 73    & NA    &  5    & 29.91\\\\\n",
       "\\end{tabular}\n"
      ],
      "text/markdown": [
       "\n",
       "| HOURLYRelativeHumidity | HOURLYDRYBULBTEMPF | HOURLYPrecip | HOURLYWindSpeed | HOURLYStationPressure |\n",
       "|---|---|---|---|---|\n",
       "| 46    | 83    | 0.00  | 13    | 29.99 |\n",
       "| 48    | 53    | 0.00  |  6    | 30.03 |\n",
       "| 89    | 36    | 0.00  | 13    | 30.12 |\n",
       "| 48    | 36    | 0.00  | 14    | 29.80 |\n",
       "| 61    | 39    | T     | 11    | 30.50 |\n",
       "| 79    | 41    | 0.00  |  6    | 29.92 |\n",
       "| 51    | 19    | 0.00  |  0    | 30.40 |\n",
       "| 65    | 24    | 0.00  | 11    | 30.35 |\n",
       "| 90    | 54    | 0.06  | 11    | 30.03 |\n",
       "| 94    | 73    | NA    |  5    | 29.91 |\n",
       "\n"
      ],
      "text/plain": [
       "   HOURLYRelativeHumidity HOURLYDRYBULBTEMPF HOURLYPrecip HOURLYWindSpeed\n",
       "1  46                     83                 0.00         13             \n",
       "2  48                     53                 0.00          6             \n",
       "3  89                     36                 0.00         13             \n",
       "4  48                     36                 0.00         14             \n",
       "5  61                     39                 T            11             \n",
       "6  79                     41                 0.00          6             \n",
       "7  51                     19                 0.00          0             \n",
       "8  65                     24                 0.00         11             \n",
       "9  90                     54                 0.06         11             \n",
       "10 94                     73                 NA            5             \n",
       "   HOURLYStationPressure\n",
       "1  29.99                \n",
       "2  30.03                \n",
       "3  30.12                \n",
       "4  29.80                \n",
       "5  30.50                \n",
       "6  29.92                \n",
       "7  30.40                \n",
       "8  30.35                \n",
       "9  30.03                \n",
       "10 29.91                "
      ]
     },
     "metadata": {},
     "output_type": "display_data"
    }
   ],
   "source": [
    "head(first_5_columns, 10)"
   ]
  },
  {
   "cell_type": "markdown",
   "metadata": {},
   "source": [
    "<a id=\"cell4\"></a>\n",
    "\n",
    "## 4. Clean Up Columns\n",
    "\n",
    "From the dataframe preview above, we can see that the column `HOURLYPrecip` - which is the hourly measure of precipitation levels - contains both `NA` and `T` values. `T` specifies *trace amounts of precipitation* (meaning essentially no precipitation), while `NA` means *not available*, and is used to denote missing values. Additionally, some values also have \"s\" at the end of them, indicating that the precipitation was snow.\n",
    "\n",
    "Inspect the unique values present in the column `HOURLYPrecip` (with `unique(dataframe$column)`) to see these values.\n"
   ]
  },
  {
   "cell_type": "code",
   "execution_count": 31,
   "metadata": {},
   "outputs": [
    {
     "data": {
      "text/html": [
       "<ol class=list-inline>\n",
       "\t<li>0.00</li>\n",
       "\t<li>T</li>\n",
       "\t<li>0.06</li>\n",
       "\t<li>&lt;NA&gt;</li>\n",
       "\t<li>0.03</li>\n",
       "\t<li>0.02</li>\n",
       "\t<li>0.08</li>\n",
       "\t<li>0.01</li>\n",
       "\t<li>0.07</li>\n",
       "\t<li>0.16</li>\n",
       "\t<li>0.09</li>\n",
       "\t<li>0.22</li>\n",
       "\t<li>0.02s</li>\n",
       "\t<li>0.24</li>\n",
       "\t<li>0.18</li>\n",
       "\t<li>0.05</li>\n",
       "\t<li>0.04</li>\n",
       "\t<li>0.09s</li>\n",
       "\t<li>0.11</li>\n",
       "\t<li>0.14</li>\n",
       "\t<li>0.25</li>\n",
       "\t<li>0.10</li>\n",
       "\t<li>0.01s</li>\n",
       "\t<li>0.58</li>\n",
       "\t<li>0.12</li>\n",
       "\t<li>0.13</li>\n",
       "\t<li>0.46</li>\n",
       "\t<li>1.07</li>\n",
       "\t<li>1.19</li>\n",
       "\t<li>0.34</li>\n",
       "\t<li>0.20</li>\n",
       "\t<li>0.36s</li>\n",
       "\t<li>0.42</li>\n",
       "\t<li>0.17</li>\n",
       "\t<li>0.27</li>\n",
       "\t<li>0.35</li>\n",
       "\t<li>0.31</li>\n",
       "\t<li>0.33</li>\n",
       "\t<li>0.23</li>\n",
       "\t<li>0.26</li>\n",
       "\t<li>0.28</li>\n",
       "\t<li>0.75</li>\n",
       "\t<li>0.19</li>\n",
       "\t<li>0.36</li>\n",
       "\t<li>0.03s</li>\n",
       "\t<li>0.07s</li>\n",
       "\t<li>0.54</li>\n",
       "\t<li>0.59</li>\n",
       "\t<li>0.21</li>\n",
       "</ol>\n",
       "\n",
       "<details>\n",
       "\t<summary style=display:list-item;cursor:pointer>\n",
       "\t\t<strong>Levels</strong>:\n",
       "\t</summary>\n",
       "\t<ol class=list-inline>\n",
       "\t\t<li>'0.00'</li>\n",
       "\t\t<li>'0.01'</li>\n",
       "\t\t<li>'0.01s'</li>\n",
       "\t\t<li>'0.02'</li>\n",
       "\t\t<li>'0.02s'</li>\n",
       "\t\t<li>'0.03'</li>\n",
       "\t\t<li>'0.03s'</li>\n",
       "\t\t<li>'0.04'</li>\n",
       "\t\t<li>'0.05'</li>\n",
       "\t\t<li>'0.06'</li>\n",
       "\t\t<li>'0.07'</li>\n",
       "\t\t<li>'0.07s'</li>\n",
       "\t\t<li>'0.08'</li>\n",
       "\t\t<li>'0.09'</li>\n",
       "\t\t<li>'0.09s'</li>\n",
       "\t\t<li>'0.10'</li>\n",
       "\t\t<li>'0.11'</li>\n",
       "\t\t<li>'0.12'</li>\n",
       "\t\t<li>'0.13'</li>\n",
       "\t\t<li>'0.14'</li>\n",
       "\t\t<li>'0.16'</li>\n",
       "\t\t<li>'0.17'</li>\n",
       "\t\t<li>'0.18'</li>\n",
       "\t\t<li>'0.19'</li>\n",
       "\t\t<li>'0.20'</li>\n",
       "\t\t<li>'0.21'</li>\n",
       "\t\t<li>'0.22'</li>\n",
       "\t\t<li>'0.23'</li>\n",
       "\t\t<li>'0.24'</li>\n",
       "\t\t<li>'0.25'</li>\n",
       "\t\t<li>'0.26'</li>\n",
       "\t\t<li>'0.27'</li>\n",
       "\t\t<li>'0.28'</li>\n",
       "\t\t<li>'0.31'</li>\n",
       "\t\t<li>'0.33'</li>\n",
       "\t\t<li>'0.34'</li>\n",
       "\t\t<li>'0.35'</li>\n",
       "\t\t<li>'0.36'</li>\n",
       "\t\t<li>'0.36s'</li>\n",
       "\t\t<li>'0.42'</li>\n",
       "\t\t<li>'0.46'</li>\n",
       "\t\t<li>'0.54'</li>\n",
       "\t\t<li>'0.58'</li>\n",
       "\t\t<li>'0.59'</li>\n",
       "\t\t<li>'0.75'</li>\n",
       "\t\t<li>'1.07'</li>\n",
       "\t\t<li>'1.19'</li>\n",
       "\t\t<li>'T'</li>\n",
       "\t</ol>\n",
       "</details>"
      ],
      "text/latex": [
       "\\begin{enumerate*}\n",
       "\\item 0.00\n",
       "\\item T\n",
       "\\item 0.06\n",
       "\\item <NA>\n",
       "\\item 0.03\n",
       "\\item 0.02\n",
       "\\item 0.08\n",
       "\\item 0.01\n",
       "\\item 0.07\n",
       "\\item 0.16\n",
       "\\item 0.09\n",
       "\\item 0.22\n",
       "\\item 0.02s\n",
       "\\item 0.24\n",
       "\\item 0.18\n",
       "\\item 0.05\n",
       "\\item 0.04\n",
       "\\item 0.09s\n",
       "\\item 0.11\n",
       "\\item 0.14\n",
       "\\item 0.25\n",
       "\\item 0.10\n",
       "\\item 0.01s\n",
       "\\item 0.58\n",
       "\\item 0.12\n",
       "\\item 0.13\n",
       "\\item 0.46\n",
       "\\item 1.07\n",
       "\\item 1.19\n",
       "\\item 0.34\n",
       "\\item 0.20\n",
       "\\item 0.36s\n",
       "\\item 0.42\n",
       "\\item 0.17\n",
       "\\item 0.27\n",
       "\\item 0.35\n",
       "\\item 0.31\n",
       "\\item 0.33\n",
       "\\item 0.23\n",
       "\\item 0.26\n",
       "\\item 0.28\n",
       "\\item 0.75\n",
       "\\item 0.19\n",
       "\\item 0.36\n",
       "\\item 0.03s\n",
       "\\item 0.07s\n",
       "\\item 0.54\n",
       "\\item 0.59\n",
       "\\item 0.21\n",
       "\\end{enumerate*}\n",
       "\n",
       "\\emph{Levels}: \\begin{enumerate*}\n",
       "\\item '0.00'\n",
       "\\item '0.01'\n",
       "\\item '0.01s'\n",
       "\\item '0.02'\n",
       "\\item '0.02s'\n",
       "\\item '0.03'\n",
       "\\item '0.03s'\n",
       "\\item '0.04'\n",
       "\\item '0.05'\n",
       "\\item '0.06'\n",
       "\\item '0.07'\n",
       "\\item '0.07s'\n",
       "\\item '0.08'\n",
       "\\item '0.09'\n",
       "\\item '0.09s'\n",
       "\\item '0.10'\n",
       "\\item '0.11'\n",
       "\\item '0.12'\n",
       "\\item '0.13'\n",
       "\\item '0.14'\n",
       "\\item '0.16'\n",
       "\\item '0.17'\n",
       "\\item '0.18'\n",
       "\\item '0.19'\n",
       "\\item '0.20'\n",
       "\\item '0.21'\n",
       "\\item '0.22'\n",
       "\\item '0.23'\n",
       "\\item '0.24'\n",
       "\\item '0.25'\n",
       "\\item '0.26'\n",
       "\\item '0.27'\n",
       "\\item '0.28'\n",
       "\\item '0.31'\n",
       "\\item '0.33'\n",
       "\\item '0.34'\n",
       "\\item '0.35'\n",
       "\\item '0.36'\n",
       "\\item '0.36s'\n",
       "\\item '0.42'\n",
       "\\item '0.46'\n",
       "\\item '0.54'\n",
       "\\item '0.58'\n",
       "\\item '0.59'\n",
       "\\item '0.75'\n",
       "\\item '1.07'\n",
       "\\item '1.19'\n",
       "\\item 'T'\n",
       "\\end{enumerate*}\n"
      ],
      "text/markdown": [
       "1. 0.00\n",
       "2. T\n",
       "3. 0.06\n",
       "4. &lt;NA&gt;\n",
       "5. 0.03\n",
       "6. 0.02\n",
       "7. 0.08\n",
       "8. 0.01\n",
       "9. 0.07\n",
       "10. 0.16\n",
       "11. 0.09\n",
       "12. 0.22\n",
       "13. 0.02s\n",
       "14. 0.24\n",
       "15. 0.18\n",
       "16. 0.05\n",
       "17. 0.04\n",
       "18. 0.09s\n",
       "19. 0.11\n",
       "20. 0.14\n",
       "21. 0.25\n",
       "22. 0.10\n",
       "23. 0.01s\n",
       "24. 0.58\n",
       "25. 0.12\n",
       "26. 0.13\n",
       "27. 0.46\n",
       "28. 1.07\n",
       "29. 1.19\n",
       "30. 0.34\n",
       "31. 0.20\n",
       "32. 0.36s\n",
       "33. 0.42\n",
       "34. 0.17\n",
       "35. 0.27\n",
       "36. 0.35\n",
       "37. 0.31\n",
       "38. 0.33\n",
       "39. 0.23\n",
       "40. 0.26\n",
       "41. 0.28\n",
       "42. 0.75\n",
       "43. 0.19\n",
       "44. 0.36\n",
       "45. 0.03s\n",
       "46. 0.07s\n",
       "47. 0.54\n",
       "48. 0.59\n",
       "49. 0.21\n",
       "\n",
       "\n",
       "\n",
       "**Levels**: 1. '0.00'\n",
       "2. '0.01'\n",
       "3. '0.01s'\n",
       "4. '0.02'\n",
       "5. '0.02s'\n",
       "6. '0.03'\n",
       "7. '0.03s'\n",
       "8. '0.04'\n",
       "9. '0.05'\n",
       "10. '0.06'\n",
       "11. '0.07'\n",
       "12. '0.07s'\n",
       "13. '0.08'\n",
       "14. '0.09'\n",
       "15. '0.09s'\n",
       "16. '0.10'\n",
       "17. '0.11'\n",
       "18. '0.12'\n",
       "19. '0.13'\n",
       "20. '0.14'\n",
       "21. '0.16'\n",
       "22. '0.17'\n",
       "23. '0.18'\n",
       "24. '0.19'\n",
       "25. '0.20'\n",
       "26. '0.21'\n",
       "27. '0.22'\n",
       "28. '0.23'\n",
       "29. '0.24'\n",
       "30. '0.25'\n",
       "31. '0.26'\n",
       "32. '0.27'\n",
       "33. '0.28'\n",
       "34. '0.31'\n",
       "35. '0.33'\n",
       "36. '0.34'\n",
       "37. '0.35'\n",
       "38. '0.36'\n",
       "39. '0.36s'\n",
       "40. '0.42'\n",
       "41. '0.46'\n",
       "42. '0.54'\n",
       "43. '0.58'\n",
       "44. '0.59'\n",
       "45. '0.75'\n",
       "46. '1.07'\n",
       "47. '1.19'\n",
       "48. 'T'\n",
       "\n",
       "\n"
      ],
      "text/plain": [
       " [1] 0.00  T     0.06  <NA>  0.03  0.02  0.08  0.01  0.07  0.16  0.09  0.22 \n",
       "[13] 0.02s 0.24  0.18  0.05  0.04  0.09s 0.11  0.14  0.25  0.10  0.01s 0.58 \n",
       "[25] 0.12  0.13  0.46  1.07  1.19  0.34  0.20  0.36s 0.42  0.17  0.27  0.35 \n",
       "[37] 0.31  0.33  0.23  0.26  0.28  0.75  0.19  0.36  0.03s 0.07s 0.54  0.59 \n",
       "[49] 0.21 \n",
       "48 Levels: 0.00 0.01 0.01s 0.02 0.02s 0.03 0.03s 0.04 0.05 0.06 0.07 ... T"
      ]
     },
     "metadata": {},
     "output_type": "display_data"
    }
   ],
   "source": [
    "unique(first_5_columns$HOURLYPrecip)\n"
   ]
  },
  {
   "cell_type": "markdown",
   "metadata": {},
   "source": [
    "Having characters in values (like the \"T\" and \"s\" that you see in the unique values) will cause problems when you create a model because values for precipitation should be numerical. So you need to fix these values that have characters.\n",
    "\n",
    "Now, for the column `HOURLYPrecip`:\n",
    "\n",
    "1.  Replace all the `T` values with \"0.0\" and\n",
    "2.  Remove \"s\" from values like \"0.02s\". In R, you can use the method `str_remove(column, pattern = \"s$\")` to remove the character \"s\" from the end of values. The \"$\" tells R to match to the end of values. The `pattern` is a regex pattern. Look at [here](https://www.rdocumentation.org/packages/stringi/versions/1.5.3/topics/about_search_regex?utm_medium=Exinfluencer&utm_source=Exinfluencer&utm_content=000026UJ&utm_term=10006555&utm_id=NA-SkillsNetwork-Channel-SkillsNetworkCoursesIBMDA0151ENSkillsNetwork21582452-2021-01-01) for more information about regex and matching to strings in R.\n",
    "\n",
    "Remember that you can use `tidyverse`'s  `mutate()` to update columns.\n",
    "\n",
    "You can check your work by checking if unique values of `HOURLYPrecip` still contain any `T` or `s`. Store the modified dataframe as a new variable.\n"
   ]
  },
  {
   "cell_type": "code",
   "execution_count": 68,
   "metadata": {},
   "outputs": [],
   "source": [
    "clean <- first_5_columns %>%\n",
    "    mutate(HOURLYPrecip=replace(HOURLYPrecip, HOURLYPrecip == \"T\", \"0.00\"))\n",
    "\n",
    "clean2 <- clean %>%\n",
    "    mutate(str_remove(HOURLYPrecip, pattern = \"s$\"))\n"
   ]
  },
  {
   "cell_type": "markdown",
   "metadata": {},
   "source": [
    "<a id=\"cell5\"></a>\n",
    "\n",
    "## 5. Convert Columns to Numerical Types\n",
    "\n",
    "Now that you have removed the characters in the `HOURLYPrecip` column, you can safely covert the column to a numeric type.\n",
    "\n",
    "First, check the types of the columns. You will notice that all are `dbl` (double or numeric) except for `HOURLYPrecip`, which is `chr` (character or string). Use the `glimpse` function from Tidyverse.\n"
   ]
  },
  {
   "cell_type": "code",
   "execution_count": 69,
   "metadata": {},
   "outputs": [
    {
     "name": "stdout",
     "output_type": "stream",
     "text": [
      "Rows: 5,727\n",
      "Columns: 6\n",
      "$ HOURLYRelativeHumidity                     <int> 46, 48, 89, 48, 61, 79, 51,…\n",
      "$ HOURLYDRYBULBTEMPF                         <int> 83, 53, 36, 36, 39, 41, 19,…\n",
      "$ HOURLYPrecip                               <fct> 0.00, 0.00, 0.00, 0.00, 0.0…\n",
      "$ HOURLYWindSpeed                            <int> 13, 6, 13, 14, 11, 6, 0, 11…\n",
      "$ HOURLYStationPressure                      <dbl> 29.99, 30.03, 30.12, 29.80,…\n",
      "$ `str_remove(HOURLYPrecip, pattern = \"s$\")` <chr> \"0.00\", \"0.00\", \"0.00\", \"0.…\n"
     ]
    }
   ],
   "source": [
    "glimpse(clean2)"
   ]
  },
  {
   "cell_type": "markdown",
   "metadata": {},
   "source": [
    "Convert `HOURLYPrecip` to the `numeric` type and store the cleaned dataframe as a new variable.\n"
   ]
  },
  {
   "cell_type": "code",
   "execution_count": 75,
   "metadata": {},
   "outputs": [
    {
     "name": "stdout",
     "output_type": "stream",
     "text": [
      "Rows: 5,727\n",
      "Columns: 6\n",
      "$ HOURLYRelativeHumidity                     <int> 46, 48, 89, 48, 61, 79, 51,…\n",
      "$ HOURLYDRYBULBTEMPF                         <int> 83, 53, 36, 36, 39, 41, 19,…\n",
      "$ HOURLYPrecip                               <fct> 0.00, 0.00, 0.00, 0.00, 0.0…\n",
      "$ HOURLYWindSpeed                            <int> 13, 6, 13, 14, 11, 6, 0, 11…\n",
      "$ HOURLYStationPressure                      <dbl> 29.99, 30.03, 30.12, 29.80,…\n",
      "$ `str_remove(HOURLYPrecip, pattern = \"s$\")` <dbl> 0.00, 0.00, 0.00, 0.00, 0.0…\n"
     ]
    }
   ],
   "source": [
    "df <- clean2 %>%\n",
    "    mutate_all(type.convert) %>%\n",
    "    mutate_if(is.factor, as.character)\n",
    "\n",
    "df2 <- df %>%\n",
    "    mutate_all(type.convert) %>%\n",
    "    mutate_if(is.character, as.numeric)\n",
    "\n",
    "glimpse(df2)"
   ]
  },
  {
   "cell_type": "markdown",
   "metadata": {},
   "source": [
    "We can now see that all fields have numerical data type.\n"
   ]
  },
  {
   "cell_type": "code",
   "execution_count": 72,
   "metadata": {},
   "outputs": [
    {
     "name": "stdout",
     "output_type": "stream",
     "text": [
      "Rows: 5,727\n",
      "Columns: 6\n",
      "$ HOURLYRelativeHumidity                     <int> 46, 48, 89, 48, 61, 79, 51,…\n",
      "$ HOURLYDRYBULBTEMPF                         <int> 83, 53, 36, 36, 39, 41, 19,…\n",
      "$ HOURLYPrecip                               <dbl> 1, 1, 1, 1, 1, 1, 1, 1, 10,…\n",
      "$ HOURLYWindSpeed                            <int> 13, 6, 13, 14, 11, 6, 0, 11…\n",
      "$ HOURLYStationPressure                      <dbl> 29.99, 30.03, 30.12, 29.80,…\n",
      "$ `str_remove(HOURLYPrecip, pattern = \"s$\")` <dbl> 0.00, 0.00, 0.00, 0.00, 0.0…\n"
     ]
    },
    {
     "ename": "ERROR",
     "evalue": "Error in glimpse(test): object 'test' not found\n",
     "output_type": "error",
     "traceback": [
      "Error in glimpse(test): object 'test' not found\nTraceback:\n",
      "1. glimpse(test)"
     ]
    }
   ],
   "source": [
    "glimpse(df)\n",
    "glimpse(test)"
   ]
  },
  {
   "cell_type": "markdown",
   "metadata": {},
   "source": [
    "<a id=\"cell6\"></a>\n",
    "\n",
    "## 6. Rename Columns\n",
    "\n",
    "Let's rename the following columns as:\n",
    "\n",
    "*   'HOURLYRelativeHumidity' to 'relative_humidity'\n",
    "*   'HOURLYDRYBULBTEMPF' to 'dry_bulb_temp_f'\n",
    "*   'HOURLYPrecip' to 'precip'\n",
    "*   'HOURLYWindSpeed' to 'wind_speed'\n",
    "*   'HOURLYStationPressure' to 'station_pressure'\n",
    "\n",
    "You can use `dplyr::rename()`. Then, store the final dataframe as a new variable.\n"
   ]
  },
  {
   "cell_type": "code",
   "execution_count": null,
   "metadata": {},
   "outputs": [],
   "source": []
  },
  {
   "cell_type": "markdown",
   "metadata": {},
   "source": [
    "<a id=\"cell7\"></a>\n",
    "\n",
    "## 7. Exploratory Data Analysis\n",
    "\n",
    "Now that you have finished preprocessing the dataset, you can can start exploring the columns more.\n",
    "\n",
    "First, split the data into a training and testing set. Splitting a dataset is done randomly, so to have reproducible results set the seed = 1234. Also, use 80% of the data for training.\n"
   ]
  },
  {
   "cell_type": "code",
   "execution_count": null,
   "metadata": {},
   "outputs": [],
   "source": []
  },
  {
   "cell_type": "markdown",
   "metadata": {},
   "source": [
    "Next, looking at just the **training set**, plot histograms or box plots of the variables (`relative_humidity`, `dry_bulb_temp_f`, `precip`, `wind_speed`,  `station_pressure`) for an intial look of their distributions using `tidyverse`'s `ggplot`. Leave the testing set as is because it is good practice to not see the testing set until evaluating the final model.\n"
   ]
  },
  {
   "cell_type": "code",
   "execution_count": null,
   "metadata": {},
   "outputs": [],
   "source": []
  },
  {
   "cell_type": "markdown",
   "metadata": {},
   "source": [
    "<a id=\"cell8\"></a>\n",
    "\n",
    "## 8. Linear Regression\n",
    "\n",
    "After exploring the dataset more, you are now ready to start creating models to predict the precipitation (`precip`).\n",
    "\n",
    "Create simple linear regression models where `precip` is the response variable and each of `relative_humidity`, `dry_bulb_temp_f`,`wind_speed` or `station_pressure` will be a predictor variable, e.g. `precip ~ relative_humidity`, `precip ~ dry_bulb_temp_f`, etc. for a total of four simple models.\n",
    "Additionally, visualize each simple model with a scatter plot.\n"
   ]
  },
  {
   "cell_type": "code",
   "execution_count": null,
   "metadata": {},
   "outputs": [],
   "source": []
  },
  {
   "cell_type": "code",
   "execution_count": null,
   "metadata": {},
   "outputs": [],
   "source": []
  },
  {
   "cell_type": "code",
   "execution_count": null,
   "metadata": {},
   "outputs": [],
   "source": []
  },
  {
   "cell_type": "code",
   "execution_count": null,
   "metadata": {},
   "outputs": [],
   "source": []
  },
  {
   "cell_type": "markdown",
   "metadata": {},
   "source": [
    "<a id=\"cell9\"></a>\n",
    "\n",
    "## 9. Improve the Model\n",
    "\n",
    "Now, try improving the simple models you created in the previous section.\n",
    "\n",
    "Create at least two more models, each model should use at least one of the different techniques:\n",
    "\n",
    "1.  Add more features/predictors\n",
    "2.  Add regularization (L1, L2 or a mix)\n",
    "3.  Add a polynomial component\n",
    "\n",
    "Also, for each of the models you create, check the model performance using the **training set** and a metric like MSE, RMSE, or R-squared.\n",
    "\n",
    "Consider using `tidymodels` if you choose to add regularization and tune lambda.\n"
   ]
  },
  {
   "cell_type": "code",
   "execution_count": null,
   "metadata": {},
   "outputs": [],
   "source": []
  },
  {
   "cell_type": "markdown",
   "metadata": {},
   "source": [
    "<a id=\"cell10\"></a>\n",
    "\n",
    "## 10. Find Best Model\n",
    "\n",
    "Compare the regression metrics of each model from section 9 to find the best model overall. To do this,\n",
    "\n",
    "1.  Evaluate the models on the **testing set** using at least one metric (like MSE, RMSE or R-squared).\n",
    "2.  After calculating the metrics on the testing set for each model, print them out in as a table to easily compare. You can use something like:\n",
    "\n",
    "```\n",
    "model_names <- c(\"model_1\", \"model_2\", \"model_3\")\n",
    "train_error <- c(\"model_1_value\", \"model_2_value\", \"model_3_value\")\n",
    "test_error <- c(\"model_1_value\", \"model_2_value\", \"model_3_value\")\n",
    "comparison_df <- data.frame(model_names, train_error, test_error)\n",
    "```\n",
    "\n",
    "3.  Finally, from the comparison table you create, conclude which model performed the best.\n"
   ]
  },
  {
   "cell_type": "code",
   "execution_count": null,
   "metadata": {},
   "outputs": [],
   "source": []
  },
  {
   "cell_type": "markdown",
   "metadata": {},
   "source": [
    "## Author(s)\n",
    "\n",
    "<h4> Yiwen Li </h4>\n",
    "\n",
    "## Contributions\n",
    "\n",
    "<h4> Tiffany Zhu </h4>\n",
    "\n",
    "## <h3 align=\"center\"> © IBM Corporation 2021. All rights reserved. <h3/>\n"
   ]
  }
 ],
 "metadata": {
  "kernelspec": {
   "display_name": "R 3.6",
   "language": "R",
   "name": "r"
  },
  "language_info": {
   "codemirror_mode": "r",
   "file_extension": ".r",
   "mimetype": "text/x-r-source",
   "name": "R",
   "pygments_lexer": "r",
   "version": "3.6.1"
  },
  "widgets": {
   "state": {},
   "version": "1.1.2"
  }
 },
 "nbformat": 4,
 "nbformat_minor": 4
}
